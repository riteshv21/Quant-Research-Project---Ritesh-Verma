{
 "cells": [
  {
   "cell_type": "code",
   "execution_count": 1,
   "metadata": {},
   "outputs": [],
   "source": [
    "import numpy as np\n",
    "import pandas as pd\n",
    "import matplotlib.pyplot as plt\n",
    "from statsmodels.tsa.stattools import coint"
   ]
  },
  {
   "cell_type": "code",
   "execution_count": 2,
   "metadata": {},
   "outputs": [],
   "source": [
    "import warnings\n",
    "warnings.filterwarnings(\"ignore\")"
   ]
  },
  {
   "cell_type": "code",
   "execution_count": 3,
   "metadata": {},
   "outputs": [],
   "source": [
    "df = pd.read_parquet('data.parquet', engine='pyarrow')"
   ]
  },
  {
   "cell_type": "code",
   "execution_count": 4,
   "metadata": {},
   "outputs": [],
   "source": [
    "df = df.between_time(start_time = '09:30:00', end_time = '16:00:00')"
   ]
  },
  {
   "cell_type": "code",
   "execution_count": 5,
   "metadata": {},
   "outputs": [
    {
     "data": {
      "text/html": [
       "<div>\n",
       "<style scoped>\n",
       "    .dataframe tbody tr th:only-of-type {\n",
       "        vertical-align: middle;\n",
       "    }\n",
       "\n",
       "    .dataframe tbody tr th {\n",
       "        vertical-align: top;\n",
       "    }\n",
       "\n",
       "    .dataframe thead th {\n",
       "        text-align: right;\n",
       "    }\n",
       "</style>\n",
       "<table border=\"1\" class=\"dataframe\">\n",
       "  <thead>\n",
       "    <tr style=\"text-align: right;\">\n",
       "      <th></th>\n",
       "      <th>banknifty</th>\n",
       "      <th>nifty</th>\n",
       "      <th>tte</th>\n",
       "    </tr>\n",
       "    <tr>\n",
       "      <th>time</th>\n",
       "      <th></th>\n",
       "      <th></th>\n",
       "      <th></th>\n",
       "    </tr>\n",
       "  </thead>\n",
       "  <tbody>\n",
       "    <tr>\n",
       "      <th>2021-01-01 09:30:00</th>\n",
       "      <td>0.277355</td>\n",
       "      <td>0.194941</td>\n",
       "      <td>27</td>\n",
       "    </tr>\n",
       "    <tr>\n",
       "      <th>2021-01-01 09:31:00</th>\n",
       "      <td>0.275796</td>\n",
       "      <td>0.194808</td>\n",
       "      <td>27</td>\n",
       "    </tr>\n",
       "    <tr>\n",
       "      <th>2021-01-01 09:32:00</th>\n",
       "      <td>0.276555</td>\n",
       "      <td>0.194817</td>\n",
       "      <td>27</td>\n",
       "    </tr>\n",
       "    <tr>\n",
       "      <th>2021-01-01 09:33:00</th>\n",
       "      <td>0.276262</td>\n",
       "      <td>0.194857</td>\n",
       "      <td>27</td>\n",
       "    </tr>\n",
       "    <tr>\n",
       "      <th>2021-01-01 09:34:00</th>\n",
       "      <td>0.277114</td>\n",
       "      <td>0.194556</td>\n",
       "      <td>27</td>\n",
       "    </tr>\n",
       "  </tbody>\n",
       "</table>\n",
       "</div>"
      ],
      "text/plain": [
       "                     banknifty     nifty  tte\n",
       "time                                         \n",
       "2021-01-01 09:30:00   0.277355  0.194941   27\n",
       "2021-01-01 09:31:00   0.275796  0.194808   27\n",
       "2021-01-01 09:32:00   0.276555  0.194817   27\n",
       "2021-01-01 09:33:00   0.276262  0.194857   27\n",
       "2021-01-01 09:34:00   0.277114  0.194556   27"
      ]
     },
     "execution_count": 5,
     "metadata": {},
     "output_type": "execute_result"
    }
   ],
   "source": [
    "df.head()"
   ]
  },
  {
   "cell_type": "code",
   "execution_count": 6,
   "metadata": {},
   "outputs": [
    {
     "data": {
      "text/html": [
       "<div>\n",
       "<style scoped>\n",
       "    .dataframe tbody tr th:only-of-type {\n",
       "        vertical-align: middle;\n",
       "    }\n",
       "\n",
       "    .dataframe tbody tr th {\n",
       "        vertical-align: top;\n",
       "    }\n",
       "\n",
       "    .dataframe thead th {\n",
       "        text-align: right;\n",
       "    }\n",
       "</style>\n",
       "<table border=\"1\" class=\"dataframe\">\n",
       "  <thead>\n",
       "    <tr style=\"text-align: right;\">\n",
       "      <th></th>\n",
       "      <th>banknifty</th>\n",
       "      <th>nifty</th>\n",
       "      <th>tte</th>\n",
       "    </tr>\n",
       "    <tr>\n",
       "      <th>time</th>\n",
       "      <th></th>\n",
       "      <th></th>\n",
       "      <th></th>\n",
       "    </tr>\n",
       "  </thead>\n",
       "  <tbody>\n",
       "    <tr>\n",
       "      <th>2022-06-30 15:26:00</th>\n",
       "      <td>0.240701</td>\n",
       "      <td>0.214758</td>\n",
       "      <td>28</td>\n",
       "    </tr>\n",
       "    <tr>\n",
       "      <th>2022-06-30 15:27:00</th>\n",
       "      <td>0.240875</td>\n",
       "      <td>0.216558</td>\n",
       "      <td>28</td>\n",
       "    </tr>\n",
       "    <tr>\n",
       "      <th>2022-06-30 15:28:00</th>\n",
       "      <td>0.242115</td>\n",
       "      <td>0.216794</td>\n",
       "      <td>28</td>\n",
       "    </tr>\n",
       "    <tr>\n",
       "      <th>2022-06-30 15:29:00</th>\n",
       "      <td>0.243426</td>\n",
       "      <td>0.216455</td>\n",
       "      <td>28</td>\n",
       "    </tr>\n",
       "    <tr>\n",
       "      <th>2022-06-30 15:30:00</th>\n",
       "      <td>0.241907</td>\n",
       "      <td>0.216081</td>\n",
       "      <td>28</td>\n",
       "    </tr>\n",
       "  </tbody>\n",
       "</table>\n",
       "</div>"
      ],
      "text/plain": [
       "                     banknifty     nifty  tte\n",
       "time                                         \n",
       "2022-06-30 15:26:00   0.240701  0.214758   28\n",
       "2022-06-30 15:27:00   0.240875  0.216558   28\n",
       "2022-06-30 15:28:00   0.242115  0.216794   28\n",
       "2022-06-30 15:29:00   0.243426  0.216455   28\n",
       "2022-06-30 15:30:00   0.241907  0.216081   28"
      ]
     },
     "execution_count": 6,
     "metadata": {},
     "output_type": "execute_result"
    }
   ],
   "source": [
    "df.tail()"
   ]
  },
  {
   "cell_type": "code",
   "execution_count": 7,
   "metadata": {},
   "outputs": [],
   "source": [
    "df.dropna(inplace = True)"
   ]
  },
  {
   "cell_type": "code",
   "execution_count": 8,
   "metadata": {},
   "outputs": [],
   "source": [
    "rth = df.between_time(start_time = '09:15:00', end_time = '16:00:00')"
   ]
  },
  {
   "cell_type": "code",
   "execution_count": 9,
   "metadata": {},
   "outputs": [],
   "source": [
    "rth = rth.drop_duplicates(subset=['nifty'])"
   ]
  },
  {
   "cell_type": "code",
   "execution_count": 10,
   "metadata": {},
   "outputs": [
    {
     "data": {
      "text/html": [
       "<div>\n",
       "<style scoped>\n",
       "    .dataframe tbody tr th:only-of-type {\n",
       "        vertical-align: middle;\n",
       "    }\n",
       "\n",
       "    .dataframe tbody tr th {\n",
       "        vertical-align: top;\n",
       "    }\n",
       "\n",
       "    .dataframe thead th {\n",
       "        text-align: right;\n",
       "    }\n",
       "</style>\n",
       "<table border=\"1\" class=\"dataframe\">\n",
       "  <thead>\n",
       "    <tr style=\"text-align: right;\">\n",
       "      <th></th>\n",
       "      <th>banknifty</th>\n",
       "      <th>nifty</th>\n",
       "      <th>tte</th>\n",
       "    </tr>\n",
       "    <tr>\n",
       "      <th>time</th>\n",
       "      <th></th>\n",
       "      <th></th>\n",
       "      <th></th>\n",
       "    </tr>\n",
       "  </thead>\n",
       "  <tbody>\n",
       "    <tr>\n",
       "      <th>2021-01-01 09:30:00</th>\n",
       "      <td>0.277355</td>\n",
       "      <td>0.194941</td>\n",
       "      <td>27</td>\n",
       "    </tr>\n",
       "    <tr>\n",
       "      <th>2021-01-01 09:31:00</th>\n",
       "      <td>0.275796</td>\n",
       "      <td>0.194808</td>\n",
       "      <td>27</td>\n",
       "    </tr>\n",
       "    <tr>\n",
       "      <th>2021-01-01 09:32:00</th>\n",
       "      <td>0.276555</td>\n",
       "      <td>0.194817</td>\n",
       "      <td>27</td>\n",
       "    </tr>\n",
       "    <tr>\n",
       "      <th>2021-01-01 09:33:00</th>\n",
       "      <td>0.276262</td>\n",
       "      <td>0.194857</td>\n",
       "      <td>27</td>\n",
       "    </tr>\n",
       "    <tr>\n",
       "      <th>2021-01-01 09:34:00</th>\n",
       "      <td>0.277114</td>\n",
       "      <td>0.194556</td>\n",
       "      <td>27</td>\n",
       "    </tr>\n",
       "  </tbody>\n",
       "</table>\n",
       "</div>"
      ],
      "text/plain": [
       "                     banknifty     nifty  tte\n",
       "time                                         \n",
       "2021-01-01 09:30:00   0.277355  0.194941   27\n",
       "2021-01-01 09:31:00   0.275796  0.194808   27\n",
       "2021-01-01 09:32:00   0.276555  0.194817   27\n",
       "2021-01-01 09:33:00   0.276262  0.194857   27\n",
       "2021-01-01 09:34:00   0.277114  0.194556   27"
      ]
     },
     "execution_count": 10,
     "metadata": {},
     "output_type": "execute_result"
    }
   ],
   "source": [
    "rth.head()"
   ]
  },
  {
   "cell_type": "code",
   "execution_count": 11,
   "metadata": {},
   "outputs": [
    {
     "data": {
      "text/html": [
       "<div>\n",
       "<style scoped>\n",
       "    .dataframe tbody tr th:only-of-type {\n",
       "        vertical-align: middle;\n",
       "    }\n",
       "\n",
       "    .dataframe tbody tr th {\n",
       "        vertical-align: top;\n",
       "    }\n",
       "\n",
       "    .dataframe thead th {\n",
       "        text-align: right;\n",
       "    }\n",
       "</style>\n",
       "<table border=\"1\" class=\"dataframe\">\n",
       "  <thead>\n",
       "    <tr style=\"text-align: right;\">\n",
       "      <th></th>\n",
       "      <th>banknifty</th>\n",
       "      <th>nifty</th>\n",
       "      <th>tte</th>\n",
       "    </tr>\n",
       "    <tr>\n",
       "      <th>time</th>\n",
       "      <th></th>\n",
       "      <th></th>\n",
       "      <th></th>\n",
       "    </tr>\n",
       "  </thead>\n",
       "  <tbody>\n",
       "    <tr>\n",
       "      <th>2022-06-30 15:23:00</th>\n",
       "      <td>0.239032</td>\n",
       "      <td>0.213391</td>\n",
       "      <td>28</td>\n",
       "    </tr>\n",
       "    <tr>\n",
       "      <th>2022-06-30 15:24:00</th>\n",
       "      <td>0.238897</td>\n",
       "      <td>0.213850</td>\n",
       "      <td>28</td>\n",
       "    </tr>\n",
       "    <tr>\n",
       "      <th>2022-06-30 15:25:00</th>\n",
       "      <td>0.239237</td>\n",
       "      <td>0.214075</td>\n",
       "      <td>28</td>\n",
       "    </tr>\n",
       "    <tr>\n",
       "      <th>2022-06-30 15:26:00</th>\n",
       "      <td>0.240701</td>\n",
       "      <td>0.214758</td>\n",
       "      <td>28</td>\n",
       "    </tr>\n",
       "    <tr>\n",
       "      <th>2022-06-30 15:30:00</th>\n",
       "      <td>0.241907</td>\n",
       "      <td>0.216081</td>\n",
       "      <td>28</td>\n",
       "    </tr>\n",
       "  </tbody>\n",
       "</table>\n",
       "</div>"
      ],
      "text/plain": [
       "                     banknifty     nifty  tte\n",
       "time                                         \n",
       "2022-06-30 15:23:00   0.239032  0.213391   28\n",
       "2022-06-30 15:24:00   0.238897  0.213850   28\n",
       "2022-06-30 15:25:00   0.239237  0.214075   28\n",
       "2022-06-30 15:26:00   0.240701  0.214758   28\n",
       "2022-06-30 15:30:00   0.241907  0.216081   28"
      ]
     },
     "execution_count": 11,
     "metadata": {},
     "output_type": "execute_result"
    }
   ],
   "source": [
    "rth.tail()"
   ]
  },
  {
   "cell_type": "code",
   "execution_count": 12,
   "metadata": {},
   "outputs": [],
   "source": [
    "part_1 = rth.loc[:'2021-11-30']"
   ]
  },
  {
   "cell_type": "code",
   "execution_count": 13,
   "metadata": {},
   "outputs": [
    {
     "data": {
      "text/html": [
       "<div>\n",
       "<style scoped>\n",
       "    .dataframe tbody tr th:only-of-type {\n",
       "        vertical-align: middle;\n",
       "    }\n",
       "\n",
       "    .dataframe tbody tr th {\n",
       "        vertical-align: top;\n",
       "    }\n",
       "\n",
       "    .dataframe thead th {\n",
       "        text-align: right;\n",
       "    }\n",
       "</style>\n",
       "<table border=\"1\" class=\"dataframe\">\n",
       "  <thead>\n",
       "    <tr style=\"text-align: right;\">\n",
       "      <th></th>\n",
       "      <th>banknifty</th>\n",
       "      <th>nifty</th>\n",
       "      <th>tte</th>\n",
       "    </tr>\n",
       "    <tr>\n",
       "      <th>time</th>\n",
       "      <th></th>\n",
       "      <th></th>\n",
       "      <th></th>\n",
       "    </tr>\n",
       "  </thead>\n",
       "  <tbody>\n",
       "    <tr>\n",
       "      <th>2021-01-01 09:30:00</th>\n",
       "      <td>0.277355</td>\n",
       "      <td>0.194941</td>\n",
       "      <td>27</td>\n",
       "    </tr>\n",
       "    <tr>\n",
       "      <th>2021-01-01 09:31:00</th>\n",
       "      <td>0.275796</td>\n",
       "      <td>0.194808</td>\n",
       "      <td>27</td>\n",
       "    </tr>\n",
       "    <tr>\n",
       "      <th>2021-01-01 09:32:00</th>\n",
       "      <td>0.276555</td>\n",
       "      <td>0.194817</td>\n",
       "      <td>27</td>\n",
       "    </tr>\n",
       "    <tr>\n",
       "      <th>2021-01-01 09:33:00</th>\n",
       "      <td>0.276262</td>\n",
       "      <td>0.194857</td>\n",
       "      <td>27</td>\n",
       "    </tr>\n",
       "    <tr>\n",
       "      <th>2021-01-01 09:34:00</th>\n",
       "      <td>0.277114</td>\n",
       "      <td>0.194556</td>\n",
       "      <td>27</td>\n",
       "    </tr>\n",
       "  </tbody>\n",
       "</table>\n",
       "</div>"
      ],
      "text/plain": [
       "                     banknifty     nifty  tte\n",
       "time                                         \n",
       "2021-01-01 09:30:00   0.277355  0.194941   27\n",
       "2021-01-01 09:31:00   0.275796  0.194808   27\n",
       "2021-01-01 09:32:00   0.276555  0.194817   27\n",
       "2021-01-01 09:33:00   0.276262  0.194857   27\n",
       "2021-01-01 09:34:00   0.277114  0.194556   27"
      ]
     },
     "execution_count": 13,
     "metadata": {},
     "output_type": "execute_result"
    }
   ],
   "source": [
    "part_1.head()"
   ]
  },
  {
   "cell_type": "code",
   "execution_count": 14,
   "metadata": {},
   "outputs": [
    {
     "data": {
      "text/html": [
       "<div>\n",
       "<style scoped>\n",
       "    .dataframe tbody tr th:only-of-type {\n",
       "        vertical-align: middle;\n",
       "    }\n",
       "\n",
       "    .dataframe tbody tr th {\n",
       "        vertical-align: top;\n",
       "    }\n",
       "\n",
       "    .dataframe thead th {\n",
       "        text-align: right;\n",
       "    }\n",
       "</style>\n",
       "<table border=\"1\" class=\"dataframe\">\n",
       "  <thead>\n",
       "    <tr style=\"text-align: right;\">\n",
       "      <th></th>\n",
       "      <th>banknifty</th>\n",
       "      <th>nifty</th>\n",
       "      <th>tte</th>\n",
       "    </tr>\n",
       "    <tr>\n",
       "      <th>time</th>\n",
       "      <th></th>\n",
       "      <th></th>\n",
       "      <th></th>\n",
       "    </tr>\n",
       "  </thead>\n",
       "  <tbody>\n",
       "    <tr>\n",
       "      <th>2021-10-29 15:26:00</th>\n",
       "      <td>0.199172</td>\n",
       "      <td>0.155891</td>\n",
       "      <td>27</td>\n",
       "    </tr>\n",
       "    <tr>\n",
       "      <th>2021-10-29 15:27:00</th>\n",
       "      <td>0.198669</td>\n",
       "      <td>0.154814</td>\n",
       "      <td>27</td>\n",
       "    </tr>\n",
       "    <tr>\n",
       "      <th>2021-10-29 15:28:00</th>\n",
       "      <td>0.200300</td>\n",
       "      <td>0.155672</td>\n",
       "      <td>27</td>\n",
       "    </tr>\n",
       "    <tr>\n",
       "      <th>2021-10-29 15:29:00</th>\n",
       "      <td>0.200082</td>\n",
       "      <td>0.157203</td>\n",
       "      <td>27</td>\n",
       "    </tr>\n",
       "    <tr>\n",
       "      <th>2021-10-29 15:30:00</th>\n",
       "      <td>0.200599</td>\n",
       "      <td>0.157080</td>\n",
       "      <td>27</td>\n",
       "    </tr>\n",
       "  </tbody>\n",
       "</table>\n",
       "</div>"
      ],
      "text/plain": [
       "                     banknifty     nifty  tte\n",
       "time                                         \n",
       "2021-10-29 15:26:00   0.199172  0.155891   27\n",
       "2021-10-29 15:27:00   0.198669  0.154814   27\n",
       "2021-10-29 15:28:00   0.200300  0.155672   27\n",
       "2021-10-29 15:29:00   0.200082  0.157203   27\n",
       "2021-10-29 15:30:00   0.200599  0.157080   27"
      ]
     },
     "execution_count": 14,
     "metadata": {},
     "output_type": "execute_result"
    }
   ],
   "source": [
    "part_1.tail()"
   ]
  },
  {
   "cell_type": "code",
   "execution_count": 15,
   "metadata": {},
   "outputs": [],
   "source": [
    "part_2 = rth.loc['2022-01-01':]"
   ]
  },
  {
   "cell_type": "code",
   "execution_count": 16,
   "metadata": {},
   "outputs": [
    {
     "data": {
      "text/html": [
       "<div>\n",
       "<style scoped>\n",
       "    .dataframe tbody tr th:only-of-type {\n",
       "        vertical-align: middle;\n",
       "    }\n",
       "\n",
       "    .dataframe tbody tr th {\n",
       "        vertical-align: top;\n",
       "    }\n",
       "\n",
       "    .dataframe thead th {\n",
       "        text-align: right;\n",
       "    }\n",
       "</style>\n",
       "<table border=\"1\" class=\"dataframe\">\n",
       "  <thead>\n",
       "    <tr style=\"text-align: right;\">\n",
       "      <th></th>\n",
       "      <th>banknifty</th>\n",
       "      <th>nifty</th>\n",
       "      <th>tte</th>\n",
       "    </tr>\n",
       "    <tr>\n",
       "      <th>time</th>\n",
       "      <th></th>\n",
       "      <th></th>\n",
       "      <th></th>\n",
       "    </tr>\n",
       "  </thead>\n",
       "  <tbody>\n",
       "    <tr>\n",
       "      <th>2022-01-03 09:30:00</th>\n",
       "      <td>0.214431</td>\n",
       "      <td>0.153168</td>\n",
       "      <td>24</td>\n",
       "    </tr>\n",
       "    <tr>\n",
       "      <th>2022-01-03 09:31:00</th>\n",
       "      <td>0.215009</td>\n",
       "      <td>0.153419</td>\n",
       "      <td>24</td>\n",
       "    </tr>\n",
       "    <tr>\n",
       "      <th>2022-01-03 09:32:00</th>\n",
       "      <td>0.214678</td>\n",
       "      <td>0.153120</td>\n",
       "      <td>24</td>\n",
       "    </tr>\n",
       "    <tr>\n",
       "      <th>2022-01-03 09:33:00</th>\n",
       "      <td>0.214582</td>\n",
       "      <td>0.152736</td>\n",
       "      <td>24</td>\n",
       "    </tr>\n",
       "    <tr>\n",
       "      <th>2022-01-03 09:34:00</th>\n",
       "      <td>0.213579</td>\n",
       "      <td>0.152574</td>\n",
       "      <td>24</td>\n",
       "    </tr>\n",
       "  </tbody>\n",
       "</table>\n",
       "</div>"
      ],
      "text/plain": [
       "                     banknifty     nifty  tte\n",
       "time                                         \n",
       "2022-01-03 09:30:00   0.214431  0.153168   24\n",
       "2022-01-03 09:31:00   0.215009  0.153419   24\n",
       "2022-01-03 09:32:00   0.214678  0.153120   24\n",
       "2022-01-03 09:33:00   0.214582  0.152736   24\n",
       "2022-01-03 09:34:00   0.213579  0.152574   24"
      ]
     },
     "execution_count": 16,
     "metadata": {},
     "output_type": "execute_result"
    }
   ],
   "source": [
    "part_2.head()"
   ]
  },
  {
   "cell_type": "code",
   "execution_count": 17,
   "metadata": {},
   "outputs": [
    {
     "data": {
      "text/html": [
       "<div>\n",
       "<style scoped>\n",
       "    .dataframe tbody tr th:only-of-type {\n",
       "        vertical-align: middle;\n",
       "    }\n",
       "\n",
       "    .dataframe tbody tr th {\n",
       "        vertical-align: top;\n",
       "    }\n",
       "\n",
       "    .dataframe thead th {\n",
       "        text-align: right;\n",
       "    }\n",
       "</style>\n",
       "<table border=\"1\" class=\"dataframe\">\n",
       "  <thead>\n",
       "    <tr style=\"text-align: right;\">\n",
       "      <th></th>\n",
       "      <th>banknifty</th>\n",
       "      <th>nifty</th>\n",
       "      <th>tte</th>\n",
       "    </tr>\n",
       "    <tr>\n",
       "      <th>time</th>\n",
       "      <th></th>\n",
       "      <th></th>\n",
       "      <th></th>\n",
       "    </tr>\n",
       "  </thead>\n",
       "  <tbody>\n",
       "    <tr>\n",
       "      <th>2022-06-30 15:23:00</th>\n",
       "      <td>0.239032</td>\n",
       "      <td>0.213391</td>\n",
       "      <td>28</td>\n",
       "    </tr>\n",
       "    <tr>\n",
       "      <th>2022-06-30 15:24:00</th>\n",
       "      <td>0.238897</td>\n",
       "      <td>0.213850</td>\n",
       "      <td>28</td>\n",
       "    </tr>\n",
       "    <tr>\n",
       "      <th>2022-06-30 15:25:00</th>\n",
       "      <td>0.239237</td>\n",
       "      <td>0.214075</td>\n",
       "      <td>28</td>\n",
       "    </tr>\n",
       "    <tr>\n",
       "      <th>2022-06-30 15:26:00</th>\n",
       "      <td>0.240701</td>\n",
       "      <td>0.214758</td>\n",
       "      <td>28</td>\n",
       "    </tr>\n",
       "    <tr>\n",
       "      <th>2022-06-30 15:30:00</th>\n",
       "      <td>0.241907</td>\n",
       "      <td>0.216081</td>\n",
       "      <td>28</td>\n",
       "    </tr>\n",
       "  </tbody>\n",
       "</table>\n",
       "</div>"
      ],
      "text/plain": [
       "                     banknifty     nifty  tte\n",
       "time                                         \n",
       "2022-06-30 15:23:00   0.239032  0.213391   28\n",
       "2022-06-30 15:24:00   0.238897  0.213850   28\n",
       "2022-06-30 15:25:00   0.239237  0.214075   28\n",
       "2022-06-30 15:26:00   0.240701  0.214758   28\n",
       "2022-06-30 15:30:00   0.241907  0.216081   28"
      ]
     },
     "execution_count": 17,
     "metadata": {},
     "output_type": "execute_result"
    }
   ],
   "source": [
    "part_2.tail()"
   ]
  },
  {
   "cell_type": "code",
   "execution_count": 18,
   "metadata": {},
   "outputs": [],
   "source": [
    "data = part_1.copy()"
   ]
  },
  {
   "cell_type": "code",
   "execution_count": 19,
   "metadata": {},
   "outputs": [],
   "source": [
    "S1 = part_1['nifty']\n",
    "S2 = part_1['banknifty']"
   ]
  },
  {
   "cell_type": "code",
   "execution_count": 20,
   "metadata": {},
   "outputs": [
    {
     "data": {
      "text/plain": [
       "0.0007328218501292341"
      ]
     },
     "execution_count": 20,
     "metadata": {},
     "output_type": "execute_result"
    }
   ],
   "source": [
    "score, p_value, _ = coint(S1, S2)\n",
    "p_value"
   ]
  },
  {
   "cell_type": "markdown",
   "metadata": {},
   "source": [
    "p value low therefore cointegration is high"
   ]
  },
  {
   "cell_type": "code",
   "execution_count": 21,
   "metadata": {},
   "outputs": [],
   "source": [
    "def zscore(series):\n",
    "    return (series - series.mean()) / np.std(series)"
   ]
  },
  {
   "cell_type": "code",
   "execution_count": 22,
   "metadata": {},
   "outputs": [
    {
     "data": {
      "image/png": "[encoded data removed]",
      "text/plain": [
       "<Figure size 1200x600 with 1 Axes>"
      ]
     },
     "metadata": {},
     "output_type": "display_data"
    }
   ],
   "source": [
    "ratio = S1 / S2\n",
    "zscore(ratio).plot(figsize = (12, 6))\n",
    "plt.xlim('2021-01-01', '2021-10-29')\n",
    "plt.axhline(ratio.mean(), color='black')\n",
    "plt.plot(ratio)\n",
    "plt.xlabel('time')\n",
    "plt.ylabel('z score of ratio')\n",
    "plt.legend(['zscore of ratio', 'mean ratio', 'ratio'])\n",
    "plt.show()"
   ]
  },
  {
   "cell_type": "code",
   "execution_count": 23,
   "metadata": {},
   "outputs": [],
   "source": [
    "change = []"
   ]
  },
  {
   "cell_type": "code",
   "execution_count": 24,
   "metadata": {},
   "outputs": [],
   "source": [
    "def trade(S1, S2, tte):\n",
    "    window1 = 1800\n",
    "    window2 = 30\n",
    "    ratios = S1/S2\n",
    "    print(ratios)\n",
    "    ratios.reset_index(drop = True, inplace = True)\n",
    "    ma1 = ratios.rolling(window=window1, center=False).mean()\n",
    "    ma2 = ratios.rolling(window=window2, center=False).mean()\n",
    "    std = ratios.rolling(window=window2, center=False).std()\n",
    "    zscore = (ma1 - ma2) / std\n",
    "    # Start with no money and no positions and simulate trading\n",
    "    money = 0\n",
    "    profit = 0\n",
    "    countS1 = 0\n",
    "    countS2 = 0\n",
    "    cur = 0\n",
    "    for i in range(len(ratios)):\n",
    "        # Buy long if the z-score is < -1\n",
    "        if zscore[i] < -1:\n",
    "            money += S1[i] - S2[i] * ratios[i]\n",
    "            cur -= S1[i] - S2[i] * ratios[i]\n",
    "            countS1 -= 1\n",
    "            countS2 += ratios[i]\n",
    "        # Sell short if the z-score is > 1\n",
    "        elif zscore[i] > 1:\n",
    "            money -= S1[i] - S2[i] * ratios[i]\n",
    "            cur += S1[i] - S2[i] * ratios[i]\n",
    "            countS1 += 1\n",
    "            countS2 -= ratios[i]\n",
    "        # Clear positions if the z-score between -.5 and .5\n",
    "        elif abs(zscore[i]) < 0.75:\n",
    "            money += S1[i] * countS1 + S2[i] * countS2\n",
    "            if cur != 0:\n",
    "                change.append(S1[i] * countS1 + S2[i] * countS2 - cur)\n",
    "            cur = 0\n",
    "            countS1 = 0\n",
    "            countS2 = 0\n",
    "    return money"
   ]
  },
  {
   "cell_type": "code",
   "execution_count": 25,
   "metadata": {},
   "outputs": [
    {
     "name": "stdout",
     "output_type": "stream",
     "text": [
      "time\n",
      "2021-01-01 09:30:00    0.702854\n",
      "2021-01-01 09:31:00    0.706349\n",
      "2021-01-01 09:32:00    0.704442\n",
      "2021-01-01 09:33:00    0.705335\n",
      "2021-01-01 09:34:00    0.702079\n",
      "                         ...   \n",
      "2021-10-29 15:26:00    0.782700\n",
      "2021-10-29 15:27:00    0.779254\n",
      "2021-10-29 15:28:00    0.777192\n",
      "2021-10-29 15:29:00    0.785691\n",
      "2021-10-29 15:30:00    0.783050\n",
      "Length: 62292, dtype: float64\n"
     ]
    },
    {
     "data": {
      "text/plain": [
       "303.05976966989516"
      ]
     },
     "execution_count": 25,
     "metadata": {},
     "output_type": "execute_result"
    }
   ],
   "source": [
    "profit1 = trade(part_1['nifty'], part_1['banknifty'], part_1['tte']) \n",
    "profit1"
   ]
  },
  {
   "cell_type": "code",
   "execution_count": 26,
   "metadata": {},
   "outputs": [
    {
     "name": "stdout",
     "output_type": "stream",
     "text": [
      "time\n",
      "2022-01-03 09:30:00    0.714300\n",
      "2022-01-03 09:31:00    0.713547\n",
      "2022-01-03 09:32:00    0.713256\n",
      "2022-01-03 09:33:00    0.711786\n",
      "2022-01-03 09:34:00    0.714364\n",
      "                         ...   \n",
      "2022-06-30 15:23:00    0.892728\n",
      "2022-06-30 15:24:00    0.895158\n",
      "2022-06-30 15:25:00    0.894822\n",
      "2022-06-30 15:26:00    0.892219\n",
      "2022-06-30 15:30:00    0.893236\n",
      "Length: 31610, dtype: float64\n"
     ]
    },
    {
     "data": {
      "text/plain": [
       "174.12852669125868"
      ]
     },
     "execution_count": 26,
     "metadata": {},
     "output_type": "execute_result"
    }
   ],
   "source": [
    "profit2 = trade(part_2['nifty'], part_2['banknifty'], part_2['tte']) \n",
    "profit2"
   ]
  },
  {
   "cell_type": "code",
   "execution_count": 27,
   "metadata": {},
   "outputs": [
    {
     "name": "stdout",
     "output_type": "stream",
     "text": [
      "Total profit: 477.18829636115385\n"
     ]
    }
   ],
   "source": [
    "print('Total profit:', profit1 + profit2)"
   ]
  },
  {
   "cell_type": "code",
   "execution_count": 28,
   "metadata": {},
   "outputs": [
    {
     "name": "stdout",
     "output_type": "stream",
     "text": [
      "2.8575846850948787\n"
     ]
    }
   ],
   "source": [
    "std_po = np.std(change)\n",
    "print(std_po)"
   ]
  },
  {
   "cell_type": "code",
   "execution_count": 29,
   "metadata": {},
   "outputs": [
    {
     "name": "stdout",
     "output_type": "stream",
     "text": [
      "Sharpe Ratio: 10.43688002603565\n"
     ]
    }
   ],
   "source": [
    "sharpe = (profit1 + profit2) / (std_po * 16)\n",
    "print('Sharpe Ratio:', sharpe)"
   ]
  }
 ],
 "metadata": {
  "kernelspec": {
   "display_name": "Python 3 (ipykernel)",
   "language": "python",
   "name": "python3"
  },
  "language_info": {
   "codemirror_mode": {
    "name": "ipython",
    "version": 3
   },
   "file_extension": ".py",
   "mimetype": "text/x-python",
   "name": "python",
   "nbconvert_exporter": "python",
   "pygments_lexer": "ipython3",
   "version": "3.12.0"
  }
 },
 "nbformat": 4,
 "nbformat_minor": 4
}
